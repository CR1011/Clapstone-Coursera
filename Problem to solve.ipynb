{
    "cells": [
        {
            "cell_type": "markdown",
            "metadata": {
                "collapsed": true
            },
            "source": "<h1> Introduction </h1>"
        },
        {
            "cell_type": "markdown",
            "metadata": {},
            "source": "<h2> 1.1. Background </h2>\nIn Toronto there are a lot of good places to live in. I want to analyze the best place to live in. The demand is high in the place so we'll see the best cluster to buy a propiety."
        },
        {
            "cell_type": "markdown",
            "metadata": {},
            "source": "<h2> 1.2 Problem </h2>\nThere are a lot of neighborhoods. To choose the better on with need to see a lot of other variables such as housing prices and schools ratings. Then. choose the best neighborhood to live in."
        },
        {
            "cell_type": "markdown",
            "metadata": {},
            "source": "<h1> Data </h1>\n<h2> 2.1. Data Collection </h2>\nAfter consideration of wich data set to use, i'll use the postal code and Lattitude and Longitute dataset that the use in the last week. \n\nThe result will be neighborhoods clusters separted by k-means algorithm wich similar characteristics. "
        },
        {
            "cell_type": "code",
            "execution_count": null,
            "metadata": {},
            "outputs": [],
            "source": ""
        }
    ],
    "metadata": {
        "kernelspec": {
            "display_name": "Python 3.6",
            "language": "python",
            "name": "python3"
        },
        "language_info": {
            "codemirror_mode": {
                "name": "ipython",
                "version": 3
            },
            "file_extension": ".py",
            "mimetype": "text/x-python",
            "name": "python",
            "nbconvert_exporter": "python",
            "pygments_lexer": "ipython3",
            "version": "3.6.9"
        }
    },
    "nbformat": 4,
    "nbformat_minor": 1
}